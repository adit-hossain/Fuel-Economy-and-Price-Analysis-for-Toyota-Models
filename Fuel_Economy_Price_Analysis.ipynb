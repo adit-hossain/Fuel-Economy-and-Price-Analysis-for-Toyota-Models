{
 "cells": [
  {
   "cell_type": "markdown",
   "id": "23dbe8c7",
   "metadata": {},
   "source": [
    "# Fuel Economy & Price Analysis of Toyota Models\n",
    "\n",
    "We will analyze trends in fuel efficiency and price for Toyota models.\n",
    "\n",
    "Dataset: A hypothetical dataset containing Toyota models, fuel economy, mileage, and price.\n"
   ]
  },
  {
   "cell_type": "code",
   "execution_count": null,
   "id": "066b1148",
   "metadata": {},
   "outputs": [],
   "source": [
    "import pandas as pd\n",
    "import matplotlib.pyplot as plt\n",
    "import seaborn as sns\n",
    "from sklearn.linear_model import LinearRegression\n",
    "\n",
    "# Example dataset\n",
    "data = {\n",
    "    'Model': ['Corolla', 'Camry', 'RAV4', 'Prius', 'Yaris', 'Highlander', 'Tacoma', 'Supra'],\n",
    "    'Mileage_km': [50000, 60000, 45000, 30000, 70000, 55000, 80000, 20000],\n",
    "    'Fuel_Economy_kmpl': [15, 13, 12, 20, 18, 10, 8, 9],\n",
    "    'Price_USD': [15000, 18000, 22000, 25000, 12000, 30000, 27000, 50000]\n",
    "}\n",
    "\n",
    "df = pd.DataFrame(data)\n",
    "\n",
    "# Scatter plot for Mileage vs Price\n",
    "plt.figure(figsize=(6,4))\n",
    "sns.scatterplot(x='Mileage_km', y='Price_USD', data=df)\n",
    "plt.title(\"Mileage vs Price for Toyota Models\")\n",
    "plt.show()\n",
    "\n",
    "# Regression analysis\n",
    "X = df[['Mileage_km']]\n",
    "y = df['Price_USD']\n",
    "\n",
    "model = LinearRegression()\n",
    "model.fit(X, y)\n",
    "print(f\"Regression Coefficient: {model.coef_[0]:.2f}\")\n",
    "print(f\"Intercept: {model.intercept_:.2f}\")\n",
    "\n",
    "# Predict prices for plotting\n",
    "df['Predicted_Price'] = model.predict(X)\n",
    "\n",
    "# Plot regression line\n",
    "plt.figure(figsize=(6,4))\n",
    "sns.scatterplot(x='Mileage_km', y='Price_USD', data=df, label='Actual')\n",
    "sns.lineplot(x='Mileage_km', y='Predicted_Price', data=df, color='red', label='Predicted')\n",
    "plt.title(\"Mileage vs Price Regression\")\n",
    "plt.show()\n"
   ]
  }
 ],
 "metadata": {},
 "nbformat": 4,
 "nbformat_minor": 5
}